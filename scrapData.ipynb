{
  "nbformat": 4,
  "nbformat_minor": 0,
  "metadata": {
    "colab": {
      "name": "scrapData.ipynb",
      "provenance": [],
      "authorship_tag": "ABX9TyPBSS8H2U+/DC7EKU6c/bGh",
      "include_colab_link": true
    },
    "kernelspec": {
      "name": "python3",
      "display_name": "Python 3"
    }
  },
  "cells": [
    {
      "cell_type": "markdown",
      "metadata": {
        "id": "view-in-github",
        "colab_type": "text"
      },
      "source": [
        "<a href=\"https://colab.research.google.com/github/shivamgoyal7/pythonCoding/blob/master/scrapData.ipynb\" target=\"_parent\"><img src=\"https://colab.research.google.com/assets/colab-badge.svg\" alt=\"Open In Colab\"/></a>"
      ]
    },
    {
      "cell_type": "markdown",
      "metadata": {
        "id": "gk6HHASAf8v8",
        "colab_type": "text"
      },
      "source": [
        "Run this code on jupyter notebook"
      ]
    },
    {
      "cell_type": "code",
      "metadata": {
        "id": "cgJT4pUDeIkQ",
        "colab_type": "code",
        "colab": {}
      },
      "source": [
        "import requests\n",
        "from bs4 import BeautifulSoup\n",
        "\n",
        "r = requests.get(\"https://www.amazon.in/b?ie=UTF8&node=976389031&pf_rd_r=DS01F1KM9Z12AMWE9BE1&pf_rd_p=b224512c-64a5-45cb-b456-8022514f88bb\")\n",
        "c = r.content\n",
        "\n",
        "soup = BeautifulSoup(c,\"html.parser\")\n",
        "all = soup.find_all(\"div\",{\"class\":\"a-section\"})\n",
        "\n",
        "l=[]\n",
        "   \n",
        "for items in all:\n",
        "    d={}\n",
        "    \n",
        "    try:\n",
        "        d[\"Book name\"]=items.find(\"span\",{\"class\":\"a-truncate-full\"}).text\n",
        "    except:\n",
        "        d[\"Book name\"]=None\n",
        "    \n",
        "    try:\n",
        "        d[\"price\"]=items.find(\"span\",{\"class\":\"a-offscreen\"}).text\n",
        "    except:\n",
        "        d[\"price\"]=None\n",
        "        \n",
        "    l.append(d)"
      ],
      "execution_count": 5,
      "outputs": []
    },
    {
      "cell_type": "code",
      "metadata": {
        "id": "PoZLyToneMoM",
        "colab_type": "code",
        "colab": {}
      },
      "source": [
        "import pandas\n",
        "df=pandas.DataFrame(l)"
      ],
      "execution_count": 9,
      "outputs": []
    },
    {
      "cell_type": "code",
      "metadata": {
        "id": "qM58vnBbft2z",
        "colab_type": "code",
        "colab": {}
      },
      "source": [
        "print(df)"
      ],
      "execution_count": null,
      "outputs": []
    }
  ]
}