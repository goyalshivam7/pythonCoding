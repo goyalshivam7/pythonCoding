{
  "nbformat": 4,
  "nbformat_minor": 0,
  "metadata": {
    "colab": {
      "name": "graph-bokeh.ipynb",
      "provenance": [],
      "authorship_tag": "ABX9TyO62CQrvZ83STClmAQg7gz/",
      "include_colab_link": true
    },
    "kernelspec": {
      "name": "python3",
      "display_name": "Python 3"
    }
  },
  "cells": [
    {
      "cell_type": "markdown",
      "metadata": {
        "id": "view-in-github",
        "colab_type": "text"
      },
      "source": [
        "<a href=\"https://colab.research.google.com/github/shivamgoyal7/pythonCoding/blob/master/graph_bokeh.ipynb\" target=\"_parent\"><img src=\"https://colab.research.google.com/assets/colab-badge.svg\" alt=\"Open In Colab\"/></a>"
      ]
    },
    {
      "cell_type": "code",
      "metadata": {
        "id": "YibHLgwVNhKx",
        "colab_type": "code",
        "colab": {}
      },
      "source": [
        "from bokeh.plotting import figure\n",
        "from bokeh.io import output_file,show\n",
        "\n",
        "x=[1,2,3,4,5,6]\n",
        "y=[6,7,8,9,10,15]\n",
        "\n",
        "output_file(\"line.html\")\n",
        "f=figure()\n",
        "f.line(x,y)\n",
        "show(f)"
      ],
      "execution_count": 5,
      "outputs": []
    },
    {
      "cell_type": "code",
      "metadata": {
        "id": "qGPNinsDNrOQ",
        "colab_type": "code",
        "colab": {}
      },
      "source": [
        "import pandas\n",
        "from bokeh.plotting import figure, output_file, show\n",
        " \n",
        "p=figure(plot_width=500,plot_height=400, tools='pan')\n",
        " \n",
        "p.title.text=\"Cool Data\"\n",
        "p.title.text_color=\"Gray\"\n",
        "p.title.text_font=\"times\"\n",
        "p.title.text_font_style=\"bold\"\n",
        "p.xaxis.minor_tick_line_color=None\n",
        "p.yaxis.minor_tick_line_color=None\n",
        "p.xaxis.axis_label=\"Date\"\n",
        "p.yaxis.axis_label=\"Intensity\"    \n",
        " \n",
        "p.line([1,2,3],[4,5,6])\n",
        "output_file(\"graph.html\")\n",
        "show(p)"
      ],
      "execution_count": 8,
      "outputs": []
    },
    {
      "cell_type": "code",
      "metadata": {
        "id": "8IKAAWyqPa5T",
        "colab_type": "code",
        "colab": {}
      },
      "source": [
        "#tempteature and pressure\n",
        "\n",
        "import pandas\n",
        " \n",
        "from bokeh.plotting import figure, output_file, show\n",
        " \n",
        "df=pandas.read_excel(\"http://pythonhow.com/data/verlegenhuken.xlsx\",sheet_name=0)\n",
        "df[\"Temperature\"]=df[\"Temperature\"]/10\n",
        "df[\"Pressure\"]=df[\"Pressure\"]/10\n",
        " \n",
        "p=figure(plot_width=500,plot_height=400,tools='pan')\n",
        " \n",
        "p.title.text=\"Temperature and Air Pressure\"\n",
        "p.title.text_color=\"Gray\"\n",
        "p.title.text_font=\"arial\"\n",
        "p.title.text_font_style=\"bold\"\n",
        "p.xaxis.minor_tick_line_color=None\n",
        "p.yaxis.minor_tick_line_color=None\n",
        "p.xaxis.axis_label=\"Temperature (°C)\"\n",
        "p.yaxis.axis_label=\"Pressure (hPa)\"    \n",
        " \n",
        "p.circle(df[\"Temperature\"],df[\"Pressure\"],size=0.5)\n",
        "output_file(\"Weather.html\")\n",
        "show(p)"
      ],
      "execution_count": 9,
      "outputs": []
    },
    {
      "cell_type": "code",
      "metadata": {
        "id": "pwm5w3KJPvqP",
        "colab_type": "code",
        "colab": {}
      },
      "source": [
        "#scatter plotting(circle)\n",
        "\n",
        "from bokeh.plotting import figure, output_file, show\n",
        "p = figure(plot_width=500, plot_height=400, tools = 'pan, reset')\n",
        "p.title.text = \"Earthquakes\"\n",
        "p.title.text_color = \"Orange\"\n",
        "p.title.text_font = \"times\"\n",
        "p.title.text_font_style = \"italic\"\n",
        "p.yaxis.minor_tick_line_color = \"Yellow\"\n",
        "p.xaxis.axis_label = \"Times\"\n",
        "p.yaxis.axis_label = \"Value\"\n",
        "p.circle([1,2,3,4,5], [5,6,5,5,3], size = [i*2 for i in [8,12,14,15,20]], color=\"red\", alpha=0.5)\n",
        "output_file(\"Scatter_plotting.html\")\n",
        "show(p)"
      ],
      "execution_count": 10,
      "outputs": []
    },
    {
      "cell_type": "code",
      "metadata": {
        "id": "5Em5M8mkP6gy",
        "colab_type": "code",
        "colab": {}
      },
      "source": [
        "# multiple graph in same scale\n",
        "\n",
        "from bokeh.plotting import figure,output_file,show\n",
        "p=figure(plot_width=800,plot_height=600)\n",
        "p.title.text=\"earthquake\"\n",
        "p.title.text_color=\"red\"\n",
        "p.xaxis.axis_label = \"times\"\n",
        "p.yaxis.axis_label = \"value\"\n",
        "\n",
        "p.line([1,2,3,5,4],[7,8,9,4,5],line_width=2,color=\"red\", alpha=0.5)\n",
        "p.circle([1,2,3,4,5], [5,6,5,5,3], size = [i*2 for i in [1,2,3,4,5]], color=\"red\", alpha=0.5)\n",
        "output_file(\"multi-graph.html\")\n",
        "show(p)"
      ],
      "execution_count": 11,
      "outputs": []
    }
  ]
}