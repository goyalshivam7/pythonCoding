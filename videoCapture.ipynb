{
  "nbformat": 4,
  "nbformat_minor": 0,
  "metadata": {
    "colab": {
      "name": "videoCapture.ipynb",
      "provenance": [],
      "authorship_tag": "ABX9TyP/uVL05KlT8GFcW3mfbQpx",
      "include_colab_link": true
    },
    "kernelspec": {
      "name": "python3",
      "display_name": "Python 3"
    }
  },
  "cells": [
    {
      "cell_type": "markdown",
      "metadata": {
        "id": "view-in-github",
        "colab_type": "text"
      },
      "source": [
        "<a href=\"https://colab.research.google.com/github/shivamgoyal7/pythonCoding/blob/master/videoCapture.ipynb\" target=\"_parent\"><img src=\"https://colab.research.google.com/assets/colab-badge.svg\" alt=\"Open In Colab\"/></a>"
      ]
    },
    {
      "cell_type": "markdown",
      "metadata": {
        "id": "A15jt8D3gtWe",
        "colab_type": "text"
      },
      "source": [
        "Run this code on jupyter notebook\n"
      ]
    },
    {
      "cell_type": "code",
      "metadata": {
        "id": "v_t7uxVAgq5q",
        "colab_type": "code",
        "colab": {}
      },
      "source": [
        "import cv2 ,time\n",
        "first_frame=None\n",
        "video=cv2.VideoCapture(0)\n",
        "while True:\n",
        "    check, frame=video.read()\n",
        "    gray=cv2.cvtColor(frame,cv2.COLOR_BGR2GRAY)\n",
        "    \n",
        "    frame=cv2.GaussianBlur(gray,(21,21),0)\n",
        "    if first_frame is None:\n",
        "        first_frame=gray\n",
        "        continue\n",
        "        \n",
        "        \n",
        "    delta_frame=cv2.absdiff(first_frame,gray)\n",
        "    thresh_frame=cv2.threshold(delta_frame,30,225,cv2.THRESH_BINARY)[1]\n",
        "    thresh_frame=cv2.dilate(thresh_frame,None,iterations=0)\n",
        "    \n",
        "    cv2.imshow(\"capturing\",gray)\n",
        "    cv2.imshow(\"Delta frame\",delta_frame)\n",
        "    cv2.imshow(\"Thresh frame\",thresh_frame)\n",
        "\n",
        "    Key=cv2.waitKey(1)\n",
        "    if Key==ord(\"q\"):\n",
        "        break\n",
        "\n",
        "video.release()\n",
        "cv2.destroyAllWindows()"
      ],
      "execution_count": null,
      "outputs": []
    }
  ]
}