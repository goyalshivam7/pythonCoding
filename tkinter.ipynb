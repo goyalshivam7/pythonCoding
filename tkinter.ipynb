{
  "nbformat": 4,
  "nbformat_minor": 0,
  "metadata": {
    "colab": {
      "name": "tkinter.ipynb",
      "provenance": [],
      "collapsed_sections": [],
      "authorship_tag": "ABX9TyMQp8TILWl7XUeLQMe/jYV6",
      "include_colab_link": true
    },
    "kernelspec": {
      "name": "python3",
      "display_name": "Python 3"
    }
  },
  "cells": [
    {
      "cell_type": "markdown",
      "metadata": {
        "id": "view-in-github",
        "colab_type": "text"
      },
      "source": [
        "<a href=\"https://colab.research.google.com/github/shivamgoyal7/pythonCoding/blob/master/tkinter.ipynb\" target=\"_parent\"><img src=\"https://colab.research.google.com/assets/colab-badge.svg\" alt=\"Open In Colab\"/></a>"
      ]
    },
    {
      "cell_type": "markdown",
      "metadata": {
        "id": "ds3YRN9pidyk",
        "colab_type": "text"
      },
      "source": [
        "Run on jupyter notebook"
      ]
    },
    {
      "cell_type": "code",
      "metadata": {
        "id": "LLOCc-_IiUYM",
        "colab_type": "code",
        "colab": {}
      },
      "source": [
        "from tkinter import*\n",
        "   \n",
        "        \n",
        "window = Tk()\n",
        "\n",
        "\n",
        "l1=Label(window,text=\"Title\")\n",
        "l1.grid(row=0,column=0)\n",
        "\n",
        "l2=Label(window,text=\"Year\")\n",
        "l2.grid(row=1,column=0)\n",
        "\n",
        "l3=Label(window,text=\"Author\")\n",
        "l3.grid(row=0,column=3)\n",
        "\n",
        "l4=Label(window,text=\"ISBN\")\n",
        "l4.grid(row=1,column=3)\n",
        "\n",
        "\n",
        "title=StringVar()\n",
        "e1=Entry(window,textvariable=title)\n",
        "e1.grid(row=0,column=2)\n",
        "\n",
        "author=StringVar()\n",
        "e2=Entry(window,textvariable=author)\n",
        "e2.grid(row=0,column=4)\n",
        "\n",
        "year=StringVar()\n",
        "e3=Entry(window,textvariable=year)\n",
        "e3.grid(row=1,column=2)\n",
        "\n",
        "isbn=StringVar()\n",
        "e4=Entry(window,textvariable=isbn)\n",
        "e4.grid(row=1,column=4)\n",
        "\n",
        "list1=Listbox(window,height=6,width=35)\n",
        "list1.grid(row=2,column=0,rowspan=6,columnspan=2)\n",
        "\n",
        "sb1=Scrollbar(window)\n",
        "sb1.grid(row=2,column=2,rowspan=6)\n",
        "\n",
        "list1.configure(yscrollcommand=sb1.set)\n",
        "sb1.configure(command=list1.yview)\n",
        "\n",
        "list1.bind(\"<<ListboxSelect>>\",get_selected_row)\n",
        "\n",
        "b1=Button(window,text=\"View all\",width=12,command=view_command)\n",
        "b1.grid(row=2,column=3)\n",
        "\n",
        "b2=Button(window,text=\"Search\",width=12,command=search_command)\n",
        "b2.grid(row=3,column=3)\n",
        "\n",
        "b3=Button(window,text=\"Add\",width=12,command=add_command)\n",
        "b3.grid(row=4,column=3)\n",
        "\n",
        "b4=Button(window,text=\"Update\",width=12)\n",
        "b4.grid(row=5,column=3)\n",
        "\n",
        "b5=Button(window,text=\"Delete\",width=12,command=delete_command)\n",
        "b5.grid(row=6,column=3)\n",
        "\n",
        "b6=Button(window,text=\"Close\",width=12)\n",
        "b6.grid(row=7,column=3)\n",
        "\n",
        "window.mainloop()"
      ],
      "execution_count": null,
      "outputs": []
    }
  ]
}