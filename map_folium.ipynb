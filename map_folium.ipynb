{
  "nbformat": 4,
  "nbformat_minor": 0,
  "metadata": {
    "colab": {
      "name": "map-folium.ipynb",
      "provenance": [],
      "authorship_tag": "ABX9TyNqsZU4TU9efywL6CSZGnqm",
      "include_colab_link": true
    },
    "kernelspec": {
      "name": "python3",
      "display_name": "Python 3"
    }
  },
  "cells": [
    {
      "cell_type": "markdown",
      "metadata": {
        "id": "view-in-github",
        "colab_type": "text"
      },
      "source": [
        "<a href=\"https://colab.research.google.com/github/shivamgoyal7/pythonCoding/blob/master/map_folium.ipynb\" target=\"_parent\"><img src=\"https://colab.research.google.com/assets/colab-badge.svg\" alt=\"Open In Colab\"/></a>"
      ]
    },
    {
      "cell_type": "code",
      "metadata": {
        "id": "hXN7YGGKYB3A",
        "colab_type": "code",
        "colab": {}
      },
      "source": [
        "import folium\n",
        "import pandas"
      ],
      "execution_count": 8,
      "outputs": []
    },
    {
      "cell_type": "code",
      "metadata": {
        "id": "9pt7GvGaY8Et",
        "colab_type": "code",
        "colab": {
          "base_uri": "https://localhost:8080/",
          "height": 1000
        },
        "outputId": "6ec8579a-1e96-4f0f-c5d1-f628ced1c827"
      },
      "source": [
        "dir(folium)"
      ],
      "execution_count": 2,
      "outputs": [
        {
          "output_type": "execute_result",
          "data": {
            "text/plain": [
              "['Choropleth',\n",
              " 'Circle',\n",
              " 'CircleMarker',\n",
              " 'ClickForMarker',\n",
              " 'ColorLine',\n",
              " 'ColorMap',\n",
              " 'CssLink',\n",
              " 'CustomIcon',\n",
              " 'Div',\n",
              " 'DivIcon',\n",
              " 'Element',\n",
              " 'FeatureGroup',\n",
              " 'Figure',\n",
              " 'FitBounds',\n",
              " 'GeoJson',\n",
              " 'GeoJsonTooltip',\n",
              " 'Html',\n",
              " 'IFrame',\n",
              " 'Icon',\n",
              " 'JavascriptLink',\n",
              " 'LatLngPopup',\n",
              " 'LayerControl',\n",
              " 'LinearColormap',\n",
              " 'Link',\n",
              " 'MacroElement',\n",
              " 'Map',\n",
              " 'Marker',\n",
              " 'PolyLine',\n",
              " 'Polygon',\n",
              " 'Popup',\n",
              " 'Rectangle',\n",
              " 'RegularPolygonMarker',\n",
              " 'StepColormap',\n",
              " 'TileLayer',\n",
              " 'Tooltip',\n",
              " 'TopoJson',\n",
              " 'Vega',\n",
              " 'VegaLite',\n",
              " 'WmsTileLayer',\n",
              " '__all__',\n",
              " '__builtins__',\n",
              " '__cached__',\n",
              " '__doc__',\n",
              " '__file__',\n",
              " '__loader__',\n",
              " '__name__',\n",
              " '__package__',\n",
              " '__path__',\n",
              " '__spec__',\n",
              " '__version__',\n",
              " '_version',\n",
              " 'absolute_import',\n",
              " 'branca',\n",
              " 'division',\n",
              " 'features',\n",
              " 'folium',\n",
              " 'map',\n",
              " 'print_function',\n",
              " 'raster_layers',\n",
              " 'sys',\n",
              " 'utilities',\n",
              " 'vector_layers',\n",
              " 'warnings']"
            ]
          },
          "metadata": {
            "tags": []
          },
          "execution_count": 2
        }
      ]
    },
    {
      "cell_type": "code",
      "metadata": {
        "id": "yuY5gCm8ZBu9",
        "colab_type": "code",
        "colab": {
          "base_uri": "https://localhost:8080/",
          "height": 1000
        },
        "outputId": "4fc4db24-c54c-4cf7-be09-b202f4097911"
      },
      "source": [
        "map = folium.Map(location=[80,-100])\n",
        "map"
      ],
      "execution_count": 4,
      "outputs": [
        {
          "output_type": "execute_result",
          "data": {
            "text/html": [
              "<div style=\"width:100%;\"><div style=\"position:relative;width:100%;height:0;padding-bottom:60%;\"><span style=\"color:#565656\">Make this Notebook Trusted to load map: File -> Trust Notebook</span><iframe src=\"about:blank\" style=\"position:absolute;width:100%;height:100%;left:0;top:0;border:none !important;\" data-html=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 onload=\"this.contentDocument.open();this.contentDocument.write(atob(this.getAttribute('data-html')));this.contentDocument.close();\" allowfullscreen webkitallowfullscreen mozallowfullscreen></iframe></div></div>"
            ],
            "text/plain": [
              "<folium.folium.Map at 0x7f16210f24a8>"
            ]
          },
          "metadata": {
            "tags": []
          },
          "execution_count": 4
        }
      ]
    },
    {
      "cell_type": "code",
      "metadata": {
        "id": "ZdrNJAgFZLiH",
        "colab_type": "code",
        "colab": {
          "base_uri": "https://localhost:8080/",
          "height": 1000
        },
        "outputId": "c6e00553-9fb5-4edd-82b7-8584f6d53c05"
      },
      "source": [
        "fg = folium.FeatureGroup(name=\"MyMap\")\n",
        "fg.add_child(folium.Marker(location=[80,-100],popup=\"hello\",icon=folium.Icon(color=\"blue\")))\n",
        "fg.add_child(folium.Marker(location=[79,-98],popup=\"helo\",icon=folium.Icon(color=\"red\")))\n",
        "map.add_child(fg)"
      ],
      "execution_count": 5,
      "outputs": [
        {
          "output_type": "execute_result",
          "data": {
            "text/html": [
              "<div style=\"width:100%;\"><div style=\"position:relative;width:100%;height:0;padding-bottom:60%;\"><span style=\"color:#565656\">Make this Notebook Trusted to load map: File -> Trust Notebook</span><iframe src=\"about:blank\" style=\"position:absolute;width:100%;height:100%;left:0;top:0;border:none !important;\" data-html=PCFET0NUWVBFIGh0bWw+CjxoZWFkPiAgICAKICAgIDxtZXRhIGh0dHAtZXF1aXY9ImNvbnRlbnQtdHlwZSIgY29udGVudD0idGV4dC9odG1sOyBjaGFyc2V0PVVURi04IiAvPgogICAgPHNjcmlwdD5MX1BSRUZFUl9DQU5WQVM9ZmFsc2U7IExfTk9fVE9VQ0g9ZmFsc2U7IExfRElTQUJMRV8zRD1mYWxzZTs8L3NjcmlwdD4KICAgIDxzY3JpcHQgc3JjPSJodHRwczovL2Nkbi5qc2RlbGl2ci5uZXQvbnBtL2xlYWZsZXRAMS40LjAvZGlzdC9sZWFmbGV0LmpzIj48L3NjcmlwdD4KICAgIDxzY3JpcHQgc3JjPSJodHRwczovL2NvZGUuanF1ZXJ5LmNvbS9qcXVlcnktMS4xMi40Lm1pbi5qcyI+PC9zY3JpcHQ+CiAgICA8c2NyaXB0IHNyYz0iaHR0cHM6Ly9tYXhjZG4uYm9vdHN0cmFwY2RuLmNvbS9ib290c3RyYXAvMy4yLjAvanMvYm9vdHN0cmFwLm1pbi5qcyI+PC9zY3JpcHQ+CiAgICA8c2NyaXB0IHNyYz0iaHR0cHM6Ly9jZG5qcy5jbG91ZGZsYXJlLmNvbS9hamF4L2xpYnMvTGVhZmxldC5hd2Vzb21lLW1hcmtlcnMvMi4wLjIvbGVhZmxldC5hd2Vzb21lLW1hcmtlcnMuanMiPjwvc2NyaXB0PgogICAgPGxpbmsgcmVsPSJzdHlsZXNoZWV0IiBocmVmPSJodHRwczovL2Nkbi5qc2RlbGl2ci5uZXQvbnBtL2xlYWZsZXRAMS40LjAvZGlzdC9sZWFmbGV0LmNzcyIvPgogICAgPGxpbmsgcmVsPSJzdHlsZXNoZWV0IiBocmVmPSJodHRwczovL21heGNkbi5ib290c3RyYXBjZG4uY29tL2Jvb3RzdHJhcC8zLjIuMC9jc3MvYm9vdHN0cmFwLm1pbi5jc3MiLz4KICAgIDxsaW5rIHJlbD0ic3R5bGVzaGVldCIgaHJlZj0iaHR0cHM6Ly9tYXhjZG4uYm9vdHN0cmFwY2RuLmNvbS9ib290c3RyYXAvMy4yLjAvY3NzL2Jvb3RzdHJhcC10aGVtZS5taW4uY3NzIi8+CiAgICA8bGluayByZWw9InN0eWxlc2hlZXQiIGhyZWY9Imh0dHBzOi8vbWF4Y2RuLmJvb3RzdHJhcGNkbi5jb20vZm9udC1hd2Vzb21lLzQuNi4zL2Nzcy9mb250LWF3ZXNvbWUubWluLmNzcyIvPgogICAgPGxpbmsgcmVsPSJzdHlsZXNoZWV0IiBocmVmPSJodHRwczovL2NkbmpzLmNsb3VkZmxhcmUuY29tL2FqYXgvbGlicy9MZWFmbGV0LmF3ZXNvbWUtbWFya2Vycy8yLjAuMi9sZWFmbGV0LmF3ZXNvbWUtbWFya2Vycy5jc3MiLz4KICAgIDxsaW5rIHJlbD0ic3R5bGVzaGVldCIgaHJlZj0iaHR0cHM6Ly9yYXdjZG4uZ2l0aGFjay5jb20vcHl0aG9uLXZpc3VhbGl6YXRpb24vZm9saXVtL21hc3Rlci9mb2xpdW0vdGVtcGxhdGVzL2xlYWZsZXQuYXdlc29tZS5yb3RhdGUuY3NzIi8+CiAgICA8c3R5bGU+aHRtbCwgYm9keSB7d2lkdGg6IDEwMCU7aGVpZ2h0OiAxMDAlO21hcmdpbjogMDtwYWRkaW5nOiAwO308L3N0eWxlPgogICAgPHN0eWxlPiNtYXAge3Bvc2l0aW9uOmFic29sdXRlO3RvcDowO2JvdHRvbTowO3JpZ2h0OjA7bGVmdDowO308L3N0eWxlPgogICAgCiAgICA8bWV0YSBuYW1lPSJ2aWV3cG9ydCIgY29udGVudD0id2lkdGg9ZGV2aWNlLXdpZHRoLAogICAgICAgIGluaXRpYWwtc2NhbGU9MS4wLCBtYXhpbXVtLXNjYWxlPTEuMCwgdXNlci1zY2FsYWJsZT1ubyIgLz4KICAgIDxzdHlsZT4jbWFwXzQ3M2VjNTZmNjhhMDRlZWY5OTc1MTg4NzE2ZGFkYjE3IHsKICAgICAgICBwb3NpdGlvbjogcmVsYXRpdmU7CiAgICAgICAgd2lkdGg6IDEwMC4wJTsKICAgICAgICBoZWlnaHQ6IDEwMC4wJTsKICAgICAgICBsZWZ0OiAwLjAlOwogICAgICAgIHRvcDogMC4wJTsKICAgICAgICB9CiAgICA8L3N0eWxlPgo8L2hlYWQ+Cjxib2R5PiAgICAKICAgIAogICAgPGRpdiBjbGFzcz0iZm9saXVtLW1hcCIgaWQ9Im1hcF80NzNlYzU2ZjY4YTA0ZWVmOTk3NTE4ODcxNmRhZGIxNyIgPjwvZGl2Pgo8L2JvZHk+CjxzY3JpcHQ+ICAgIAogICAgCiAgICAKICAgICAgICB2YXIgYm91bmRzID0gbnVsbDsKICAgIAoKICAgIHZhciBtYXBfNDczZWM1NmY2OGEwNGVlZjk5NzUxODg3MTZkYWRiMTcgPSBMLm1hcCgKICAgICAgICAnbWFwXzQ3M2VjNTZmNjhhMDRlZWY5OTc1MTg4NzE2ZGFkYjE3JywgewogICAgICAgIGNlbnRlcjogWzgwLCAtMTAwXSwKICAgICAgICB6b29tOiAxMCwKICAgICAgICBtYXhCb3VuZHM6IGJvdW5kcywKICAgICAgICBsYXllcnM6IFtdLAogICAgICAgIHdvcmxkQ29weUp1bXA6IGZhbHNlLAogICAgICAgIGNyczogTC5DUlMuRVBTRzM4NTcsCiAgICAgICAgem9vbUNvbnRyb2w6IHRydWUsCiAgICAgICAgfSk7CgoKICAgIAogICAgdmFyIHRpbGVfbGF5ZXJfNWY5MWUxYWRmNjIxNDE4MWJjNjY2YzU1NGZjMmNlMzAgPSBMLnRpbGVMYXllcigKICAgICAgICAnaHR0cHM6Ly97c30udGlsZS5vcGVuc3RyZWV0bWFwLm9yZy97en0ve3h9L3t5fS5wbmcnLAogICAgICAgIHsKICAgICAgICAiYXR0cmlidXRpb24iOiBudWxsLAogICAgICAgICJkZXRlY3RSZXRpbmEiOiBmYWxzZSwKICAgICAgICAibWF4TmF0aXZlWm9vbSI6IDE4LAogICAgICAgICJtYXhab29tIjogMTgsCiAgICAgICAgIm1pblpvb20iOiAwLAogICAgICAgICJub1dyYXAiOiBmYWxzZSwKICAgICAgICAib3BhY2l0eSI6IDEsCiAgICAgICAgInN1YmRvbWFpbnMiOiAiYWJjIiwKICAgICAgICAidG1zIjogZmFsc2UKfSkuYWRkVG8obWFwXzQ3M2VjNTZmNjhhMDRlZWY5OTc1MTg4NzE2ZGFkYjE3KTsKICAgIAogICAgICAgICAgICB2YXIgZmVhdHVyZV9ncm91cF9mYjY0MmIyMDFlOWE0ZTgwOWQzMzQ3ZTRkZDVjZGE5ZiA9IEwuZmVhdHVyZUdyb3VwKAogICAgICAgICAgICAgICAgKS5hZGRUbyhtYXBfNDczZWM1NmY2OGEwNGVlZjk5NzUxODg3MTZkYWRiMTcpOwogICAgICAgIAogICAgCiAgICAgICAgdmFyIG1hcmtlcl9iNDljMzIxYzVmYTY0MDlkYWQxZTgzZDA1ZjAwOWQwOCA9IEwubWFya2VyKAogICAgICAgICAgICBbODAsIC0xMDBdLAogICAgICAgICAgICB7CiAgICAgICAgICAgICAgICBpY29uOiBuZXcgTC5JY29uLkRlZmF1bHQoKSwKICAgICAgICAgICAgICAgIH0KICAgICAgICAgICAgKS5hZGRUbyhmZWF0dXJlX2dyb3VwX2ZiNjQyYjIwMWU5YTRlODA5ZDMzNDdlNGRkNWNkYTlmKTsKICAgICAgICAKICAgIAoKICAgICAgICAgICAgICAgIHZhciBpY29uXzk4NGQ1YjNiYTUwNjQzM2JhOGMxMzI0NGVlNTAwNDNmID0gTC5Bd2Vzb21lTWFya2Vycy5pY29uKHsKICAgICAgICAgICAgICAgICAgICBpY29uOiAnaW5mby1zaWduJywKICAgICAgICAgICAgICAgICAgICBpY29uQ29sb3I6ICd3aGl0ZScsCiAgICAgICAgICAgICAgICAgICAgbWFya2VyQ29sb3I6ICdibHVlJywKICAgICAgICAgICAgICAgICAgICBwcmVmaXg6ICdnbHlwaGljb24nLAogICAgICAgICAgICAgICAgICAgIGV4dHJhQ2xhc3NlczogJ2ZhLXJvdGF0ZS0wJwogICAgICAgICAgICAgICAgICAgIH0pOwogICAgICAgICAgICAgICAgbWFya2VyX2I0OWMzMjFjNWZhNjQwOWRhZDFlODNkMDVmMDA5ZDA4LnNldEljb24oaWNvbl85ODRkNWIzYmE1MDY0MzNiYThjMTMyNDRlZTUwMDQzZik7CiAgICAgICAgICAgIAogICAgCiAgICAgICAgICAgIHZhciBwb3B1cF81YzVmMzIwOGEwYWU0MTZmYjYzMDhlNGM1YTQyMDhhYSA9IEwucG9wdXAoe21heFdpZHRoOiAnMTAwJScKICAgICAgICAgICAgCiAgICAgICAgICAgIH0pOwoKICAgICAgICAgICAgCiAgICAgICAgICAgICAgICB2YXIgaHRtbF8yYzVmNGFhNjIzNGY0NDBiYjE3MjgzYjUzYzllYjhjZiA9ICQoYDxkaXYgaWQ9Imh0bWxfMmM1ZjRhYTYyMzRmNDQwYmIxNzI4M2I1M2M5ZWI4Y2YiIHN0eWxlPSJ3aWR0aDogMTAwLjAlOyBoZWlnaHQ6IDEwMC4wJTsiPmhlbGxvPC9kaXY+YClbMF07CiAgICAgICAgICAgICAgICBwb3B1cF81YzVmMzIwOGEwYWU0MTZmYjYzMDhlNGM1YTQyMDhhYS5zZXRDb250ZW50KGh0bWxfMmM1ZjRhYTYyMzRmNDQwYmIxNzI4M2I1M2M5ZWI4Y2YpOwogICAgICAgICAgICAKCiAgICAgICAgICAgIG1hcmtlcl9iNDljMzIxYzVmYTY0MDlkYWQxZTgzZDA1ZjAwOWQwOC5iaW5kUG9wdXAocG9wdXBfNWM1ZjMyMDhhMGFlNDE2ZmI2MzA4ZTRjNWE0MjA4YWEpCiAgICAgICAgICAgIDsKCiAgICAgICAgICAgIAogICAgICAgIAogICAgCiAgICAgICAgdmFyIG1hcmtlcl9lMjM3YjQyNzRiMDI0ZmExODZjMjBkMGQ0ODZkOWM5NSA9IEwubWFya2VyKAogICAgICAgICAgICBbNzksIC05OF0sCiAgICAgICAgICAgIHsKICAgICAgICAgICAgICAgIGljb246IG5ldyBMLkljb24uRGVmYXVsdCgpLAogICAgICAgICAgICAgICAgfQogICAgICAgICAgICApLmFkZFRvKGZlYXR1cmVfZ3JvdXBfZmI2NDJiMjAxZTlhNGU4MDlkMzM0N2U0ZGQ1Y2RhOWYpOwogICAgICAgIAogICAgCgogICAgICAgICAgICAgICAgdmFyIGljb25fNmNiMGMwZjllY2IyNDNhZjg2ZDdmYmQ3M2MzNGQzODYgPSBMLkF3ZXNvbWVNYXJrZXJzLmljb24oewogICAgICAgICAgICAgICAgICAgIGljb246ICdpbmZvLXNpZ24nLAogICAgICAgICAgICAgICAgICAgIGljb25Db2xvcjogJ3doaXRlJywKICAgICAgICAgICAgICAgICAgICBtYXJrZXJDb2xvcjogJ3JlZCcsCiAgICAgICAgICAgICAgICAgICAgcHJlZml4OiAnZ2x5cGhpY29uJywKICAgICAgICAgICAgICAgICAgICBleHRyYUNsYXNzZXM6ICdmYS1yb3RhdGUtMCcKICAgICAgICAgICAgICAgICAgICB9KTsKICAgICAgICAgICAgICAgIG1hcmtlcl9lMjM3YjQyNzRiMDI0ZmExODZjMjBkMGQ0ODZkOWM5NS5zZXRJY29uKGljb25fNmNiMGMwZjllY2IyNDNhZjg2ZDdmYmQ3M2MzNGQzODYpOwogICAgICAgICAgICAKICAgIAogICAgICAgICAgICB2YXIgcG9wdXBfNWFlODY1MDczZTBhNDhhOTgxOGQ1NWMzM2M4NjcwODUgPSBMLnBvcHVwKHttYXhXaWR0aDogJzEwMCUnCiAgICAgICAgICAgIAogICAgICAgICAgICB9KTsKCiAgICAgICAgICAgIAogICAgICAgICAgICAgICAgdmFyIGh0bWxfZGQyOGRjMDhkNDkzNGQ5ZGE4YWQ5MzFjMjQzNDVlMTAgPSAkKGA8ZGl2IGlkPSJodG1sX2RkMjhkYzA4ZDQ5MzRkOWRhOGFkOTMxYzI0MzQ1ZTEwIiBzdHlsZT0id2lkdGg6IDEwMC4wJTsgaGVpZ2h0OiAxMDAuMCU7Ij5oZWxvPC9kaXY+YClbMF07CiAgICAgICAgICAgICAgICBwb3B1cF81YWU4NjUwNzNlMGE0OGE5ODE4ZDU1YzMzYzg2NzA4NS5zZXRDb250ZW50KGh0bWxfZGQyOGRjMDhkNDkzNGQ5ZGE4YWQ5MzFjMjQzNDVlMTApOwogICAgICAgICAgICAKCiAgICAgICAgICAgIG1hcmtlcl9lMjM3YjQyNzRiMDI0ZmExODZjMjBkMGQ0ODZkOWM5NS5iaW5kUG9wdXAocG9wdXBfNWFlODY1MDczZTBhNDhhOTgxOGQ1NWMzM2M4NjcwODUpCiAgICAgICAgICAgIDsKCiAgICAgICAgICAgIAogICAgICAgIAo8L3NjcmlwdD4= onload=\"this.contentDocument.open();this.contentDocument.write(atob(this.getAttribute('data-html')));this.contentDocument.close();\" allowfullscreen webkitallowfullscreen mozallowfullscreen></iframe></div></div>"
            ],
            "text/plain": [
              "<folium.folium.Map at 0x7f16210f24a8>"
            ]
          },
          "metadata": {
            "tags": []
          },
          "execution_count": 5
        }
      ]
    },
    {
      "cell_type": "code",
      "metadata": {
        "id": "N2RbO82LZZ04",
        "colab_type": "code",
        "colab": {
          "base_uri": "https://localhost:8080/",
          "height": 915
        },
        "outputId": "6e7dddb7-1bef-4227-b47e-acb0ff9bab52"
      },
      "source": [
        "fg = folium.FeatureGroup(name=\"MyMap\")\n",
        "for coordinates in [[47,52],[46,55]]:\n",
        "    fg.add_child(folium.Marker(location=coordinates,popup=\"hello\",icon=folium.Icon(color=\"red\")))\n",
        "map.add_child(fg)"
      ],
      "execution_count": 7,
      "outputs": [
        {
          "output_type": "execute_result",
          "data": {
            "text/html": [
              "<div style=\"width:100%;\"><div style=\"position:relative;width:100%;height:0;padding-bottom:60%;\"><span style=\"color:#565656\">Make this Notebook Trusted to load map: File -> Trust Notebook</span><iframe src=\"about:blank\" style=\"position:absolute;width:100%;height:100%;left:0;top:0;border:none !important;\" data-html=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 onload=\"this.contentDocument.open();this.contentDocument.write(atob(this.getAttribute('data-html')));this.contentDocument.close();\" allowfullscreen webkitallowfullscreen mozallowfullscreen></iframe></div></div>"
            ],
            "text/plain": [
              "<folium.folium.Map at 0x7f16210f24a8>"
            ]
          },
          "metadata": {
            "tags": []
          },
          "execution_count": 7
        }
      ]
    },
    {
      "cell_type": "markdown",
      "metadata": {
        "id": "3_PaRckxbc0F",
        "colab_type": "text"
      },
      "source": [
        "Plot a graph from DataSet (run this on jupyter notebook)"
      ]
    },
    {
      "cell_type": "code",
      "metadata": {
        "id": "jhj0z1a-Z1n3",
        "colab_type": "code",
        "colab": {}
      },
      "source": [
        "data = pandas.read_csv(\"coordinates.txt\")\n",
        "lat = list(data[\"LAT\"])\n",
        "lon = list(data[\"LON\"])\n",
        "elev = list(data[\"ELEV\"])\n",
        "fg = folium.FeatureGroup(name=\"my_map\")\n",
        "for lt,ln,el in zip(lat,lon,elev):\n",
        "    fg.add_child(folium.Marker(location=[lt,ln],popup=el,icon = folium.Icon(color=\"red\")))\n",
        "    map.add_child(fg)\n",
        "\n",
        "map.save(\"map3.html\")"
      ],
      "execution_count": null,
      "outputs": []
    }
  ]
}